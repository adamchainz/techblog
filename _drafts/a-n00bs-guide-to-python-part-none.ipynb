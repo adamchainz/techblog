{
 "metadata": {
  "name": "",
  "signature": "sha256:661302ec67d3303971dfe13e9f3e119699880a15cc5a89637569b86087dabbf0"
 },
 "nbformat": 3,
 "nbformat_minor": 0,
 "worksheets": [
  {
   "cells": [
    {
     "cell_type": "markdown",
     "metadata": {},
     "source": [
      "---\n",
      "layout: post\n",
      "title: \"A N00b's Guide to Python Part None\"\n",
      "date: 2014-09-16 22:05:00 +0100\n",
      "comments: true\n",
      "categories:\n",
      "---\n",
      "\n",
      "![Space. The closest thing to nothing.]({{ site.baseurl }}/assets/2014-09-17-big-dipper.jpg)\n",
      "\n",
      "**Disclaimer:** even though this post covers nothing, it does so in a fairly technical manner, so it's probably not appropriate for complete newbies. You'll need a little programming experience to understand it.\n",
      "\n",
      "Okay, with the disclaiming out of the way, let's get on to learning about nothing - or rather, python's name for it, `None`. Remember, nothing is nothing, not even zero (that's a number, which is something!). You may also know this idea as `null`.\n",
      "\n",
      "I'm writing this post in IPython. If you want to follow along at home, get your IPython console started by typing `ipython` at the command prompt. Didn't work? [Install it](http://ipython.org/install.html). Bam.\n",
      "\n",
      "Now, let's start by getting a `None`:"
     ]
    },
    {
     "cell_type": "code",
     "collapsed": false,
     "input": [
      "None"
     ],
     "language": "python",
     "metadata": {},
     "outputs": [],
     "prompt_number": 1
    },
    {
     "cell_type": "markdown",
     "metadata": {},
     "source": [
      "Okay, great, but I'd like some feedback. Let's try `print`ing it to the screen:"
     ]
    },
    {
     "cell_type": "code",
     "collapsed": false,
     "input": [
      "print None"
     ],
     "language": "python",
     "metadata": {},
     "outputs": [
      {
       "output_type": "stream",
       "stream": "stdout",
       "text": [
        "None\n"
       ]
      }
     ],
     "prompt_number": 2
    },
    {
     "cell_type": "markdown",
     "metadata": {},
     "source": [
      "Okay, that's better. `print` gives you human output to the screen of what's happening. IPython doesn't show any output if a statement ends up as `None`, which is wise because it means nothing. But `print` tells us that we gave it `None`, rather than something - in fact, what `print` does is just output the `str`ing representation of what you give it:"
     ]
    },
    {
     "cell_type": "code",
     "collapsed": false,
     "input": [
      "str(None)"
     ],
     "language": "python",
     "metadata": {},
     "outputs": [
      {
       "metadata": {},
       "output_type": "pyout",
       "prompt_number": 3,
       "text": [
        "'None'"
       ]
      }
     ],
     "prompt_number": 3
    },
    {
     "cell_type": "markdown",
     "metadata": {},
     "source": [
      "Aha, that's definitely IPython telling us we have a `str`ing, since it has 'quote marks' around it. However, if we print the `str`ing there won't be any quote marks:"
     ]
    },
    {
     "cell_type": "code",
     "collapsed": false,
     "input": [
      "print str(None)"
     ],
     "language": "python",
     "metadata": {},
     "outputs": [
      {
       "output_type": "stream",
       "stream": "stdout",
       "text": [
        "None\n"
       ]
      }
     ],
     "prompt_number": 4
    },
    {
     "cell_type": "markdown",
     "metadata": {},
     "source": [
      "Brilliant.\n",
      "\n",
      "Anyway, that's something, and we're more worried about `None`. Let's ask IPython more about it:"
     ]
    },
    {
     "cell_type": "code",
     "collapsed": false,
     "input": [
      "None?"
     ],
     "language": "python",
     "metadata": {},
     "outputs": [],
     "prompt_number": 5
    },
    {
     "cell_type": "markdown",
     "metadata": {},
     "source": [
      "{% highlight ipy %}\n",
      "Type:        NoneType\n",
      "String form: None\n",
      "Namespace:   Python builtin\n",
      "Docstring:   <no docstring>\n",
      "{% endhighlight %}"
     ]
    },
    {
     "cell_type": "markdown",
     "metadata": {},
     "source": [
      "Aha, so its type is **\"NoneType\"**. Sounds like things in Python have types. That **String Form** there - we've already encountered that. **Namespace** is Python builtin - sensible, since I told you it was part of python and we haven't done anything to include any other spaces of names. But it has no docstring, which isn't a prescription, but something that documents what you're looking at.\n",
      "\n",
      "Does anything else have a docstring?"
     ]
    },
    {
     "cell_type": "code",
     "collapsed": false,
     "input": [
      "str?"
     ],
     "language": "python",
     "metadata": {},
     "outputs": [],
     "prompt_number": 6
    },
    {
     "cell_type": "markdown",
     "metadata": {},
     "source": [
      "    Type:        type\n",
      "    String form: <type 'str'>\n",
      "    Namespace:   Python builtin\n",
      "    Docstring:\n",
      "    str(object='') -> string\n",
      "\n",
      "    Return a nice string representation of the object.\n",
      "    If the argument is a string, the return value is the same object.\n",
      "\n",
      "Wow, looks like `str` has a **docstring**, that tells us it can take any object and turn it into a *nice string representation*. We've already seen it do that, and it sure was nice!\n",
      "\n",
      "But its **type** is **type** ?\n",
      "\n",
      "Hmm, we already saw the type of `None` is `NoneType`. Does that mean we can get that type and make more `None` objects?"
     ]
    },
    {
     "cell_type": "code",
     "collapsed": false,
     "input": [
      "type(None)"
     ],
     "language": "python",
     "metadata": {},
     "outputs": [
      {
       "metadata": {},
       "output_type": "pyout",
       "prompt_number": 7,
       "text": [
        "NoneType"
       ]
      }
     ],
     "prompt_number": 7
    },
    {
     "cell_type": "code",
     "collapsed": false,
     "input": [
      "none_type = type(None)"
     ],
     "language": "python",
     "metadata": {},
     "outputs": [],
     "prompt_number": 8
    },
    {
     "cell_type": "code",
     "collapsed": false,
     "input": [
      "none_type()"
     ],
     "language": "python",
     "metadata": {},
     "outputs": [
      {
       "ename": "TypeError",
       "evalue": "cannot create 'NoneType' instances",
       "output_type": "pyerr",
       "traceback": [
        "\u001b[0;31m---------------------------------------------------------------------------\u001b[0m\n\u001b[0;31mTypeError\u001b[0m                                 Traceback (most recent call last)",
        "\u001b[0;32m<ipython-input-9-bd46beb9df28>\u001b[0m in \u001b[0;36m<module>\u001b[0;34m()\u001b[0m\n\u001b[0;32m----> 1\u001b[0;31m \u001b[0mnone_type\u001b[0m\u001b[0;34m(\u001b[0m\u001b[0;34m)\u001b[0m\u001b[0;34m\u001b[0m\u001b[0m\n\u001b[0m",
        "\u001b[0;31mTypeError\u001b[0m: cannot create 'NoneType' instances"
       ]
      }
     ],
     "prompt_number": 9
    },
    {
     "cell_type": "markdown",
     "metadata": {},
     "source": [
      "Oh dear. We have a handle on the `NoneType` type, but we can't make any more of it. Does that mean there is only one `None`?"
     ]
    },
    {
     "cell_type": "code",
     "collapsed": false,
     "input": [
      "a = None"
     ],
     "language": "python",
     "metadata": {},
     "outputs": [],
     "prompt_number": 10
    },
    {
     "cell_type": "code",
     "collapsed": false,
     "input": [
      "b = None"
     ],
     "language": "python",
     "metadata": {},
     "outputs": [],
     "prompt_number": 11
    },
    {
     "cell_type": "code",
     "collapsed": false,
     "input": [
      "a == b"
     ],
     "language": "python",
     "metadata": {},
     "outputs": [
      {
       "metadata": {},
       "output_type": "pyout",
       "prompt_number": 12,
       "text": [
        "True"
       ]
      }
     ],
     "prompt_number": 12
    },
    {
     "cell_type": "markdown",
     "metadata": {},
     "source": [
      "Well, they're equal, that's a start. But can we check that `a` and `b` are *exactly* the same thing?"
     ]
    },
    {
     "cell_type": "code",
     "collapsed": false,
     "input": [
      "a is b"
     ],
     "language": "python",
     "metadata": {},
     "outputs": [
      {
       "metadata": {},
       "output_type": "pyout",
       "prompt_number": 13,
       "text": [
        "True"
       ]
      }
     ],
     "prompt_number": 13
    },
    {
     "cell_type": "markdown",
     "metadata": {},
     "source": [
      "Yes indeed they are. So there is only ever one `None`, and we can't make any more of it - that's useful to know (write it down in your copy book now).\n",
      "\n",
      "Now let's have a break with a quote on nothing:"
     ]
    },
    {
     "cell_type": "markdown",
     "metadata": {},
     "source": [
      "![Marcus Aurelius]({{ site.baseurl }}/assets/2014-09-17-marcus-aurelius.png)\n",
      "\n",
      "> Nothing proceeds from nothingness, as also nothing passes away into non-existence.\n",
      "> Marcus Aurelius, Meditations, IV, 4\n",
      "\n",
      "What a legend. Let's continue; I wonder if `None` can be checked against:"
     ]
    },
    {
     "cell_type": "code",
     "collapsed": false,
     "input": [
      "if None:\n",
      "    print \"Yes, none.\""
     ],
     "language": "python",
     "metadata": {},
     "outputs": [],
     "prompt_number": 14
    },
    {
     "cell_type": "markdown",
     "metadata": {},
     "source": [
      "Oh, nothing happened. Let's see what happens if we go the other way:"
     ]
    },
    {
     "cell_type": "code",
     "collapsed": false,
     "input": [
      "if not None:\n",
      "    print \"Yes, not none.\""
     ],
     "language": "python",
     "metadata": {},
     "outputs": [
      {
       "output_type": "stream",
       "stream": "stdout",
       "text": [
        "Yes, not none.\n"
       ]
      }
     ],
     "prompt_number": 15
    },
    {
     "cell_type": "markdown",
     "metadata": {},
     "source": [
      "Aha! So `None` is never `True`, and always `False`. Let's just check that:"
     ]
    },
    {
     "cell_type": "code",
     "collapsed": false,
     "input": [
      "None == True"
     ],
     "language": "python",
     "metadata": {},
     "outputs": [
      {
       "metadata": {},
       "output_type": "pyout",
       "prompt_number": 16,
       "text": [
        "False"
       ]
      }
     ],
     "prompt_number": 16
    },
    {
     "cell_type": "code",
     "collapsed": false,
     "input": [
      "None == False"
     ],
     "language": "python",
     "metadata": {},
     "outputs": [
      {
       "metadata": {},
       "output_type": "pyout",
       "prompt_number": 17,
       "text": [
        "False"
       ]
      }
     ],
     "prompt_number": 17
    },
    {
     "cell_type": "markdown",
     "metadata": {},
     "source": [
      "But `is` `None` ever the same thing as `True` or `False`?"
     ]
    },
    {
     "cell_type": "code",
     "collapsed": false,
     "input": [
      "None is True"
     ],
     "language": "python",
     "metadata": {},
     "outputs": [
      {
       "metadata": {},
       "output_type": "pyout",
       "prompt_number": 18,
       "text": [
        "False"
       ]
      }
     ],
     "prompt_number": 18
    },
    {
     "cell_type": "code",
     "collapsed": false,
     "input": [
      "None is False"
     ],
     "language": "python",
     "metadata": {},
     "outputs": [
      {
       "metadata": {},
       "output_type": "pyout",
       "prompt_number": 19,
       "text": [
        "False"
       ]
      }
     ],
     "prompt_number": 19
    },
    {
     "cell_type": "markdown",
     "metadata": {},
     "source": [
      "Clearly not. In fact, `is` *only* checks if two objects are exactly the same object, and for `None`, `True`, and `False`, we know they are builtins. Let's just quickly check for `True`:"
     ]
    },
    {
     "cell_type": "code",
     "collapsed": false,
     "input": [
      "True?"
     ],
     "language": "python",
     "metadata": {},
     "outputs": [],
     "prompt_number": 20
    },
    {
     "cell_type": "markdown",
     "metadata": {},
     "source": [
      "    Type:        bool\n",
      "    String form: True\n",
      "    Namespace:   Python builtin\n",
      "    Docstring:\n",
      "    bool(x) -> bool\n",
      "\n",
      "    Returns True when the argument x is true, False otherwise.\n",
      "    The builtins True and False are the only two instances of the class bool.\n",
      "    The class bool is a subclass of the class int, and cannot be subclassed."
     ]
    },
    {
     "cell_type": "markdown",
     "metadata": {},
     "source": [
      "Exactly. But we've discovered the `type` of both `True` and `False` - it's `bool`! Let's do as it says and make a `bool` out of `None`:"
     ]
    },
    {
     "cell_type": "code",
     "collapsed": false,
     "input": [
      "bool(None)"
     ],
     "language": "python",
     "metadata": {},
     "outputs": [
      {
       "metadata": {},
       "output_type": "pyout",
       "prompt_number": 21,
       "text": [
        "False"
       ]
      }
     ],
     "prompt_number": 21
    },
    {
     "cell_type": "markdown",
     "metadata": {},
     "source": [
      "That explains why testing it with `if` worked like it did - `None` gets turned into `False` when we try test it as a `bool`ean.\n",
      "\n",
      "Let's try doing some more day-to-day things with `None`."
     ]
    },
    {
     "cell_type": "code",
     "collapsed": false,
     "input": [
      "None + None"
     ],
     "language": "python",
     "metadata": {},
     "outputs": [
      {
       "ename": "TypeError",
       "evalue": "unsupported operand type(s) for +: 'NoneType' and 'NoneType'",
       "output_type": "pyerr",
       "traceback": [
        "\u001b[0;31m---------------------------------------------------------------------------\u001b[0m\n\u001b[0;31mTypeError\u001b[0m                                 Traceback (most recent call last)",
        "\u001b[0;32m<ipython-input-22-28a1675638b9>\u001b[0m in \u001b[0;36m<module>\u001b[0;34m()\u001b[0m\n\u001b[0;32m----> 1\u001b[0;31m \u001b[0mNone\u001b[0m \u001b[0;34m+\u001b[0m \u001b[0mNone\u001b[0m\u001b[0;34m\u001b[0m\u001b[0m\n\u001b[0m",
        "\u001b[0;31mTypeError\u001b[0m: unsupported operand type(s) for +: 'NoneType' and 'NoneType'"
       ]
      }
     ],
     "prompt_number": 22
    },
    {
     "cell_type": "code",
     "collapsed": false,
     "input": [
      "None - None"
     ],
     "language": "python",
     "metadata": {},
     "outputs": [
      {
       "ename": "TypeError",
       "evalue": "unsupported operand type(s) for -: 'NoneType' and 'NoneType'",
       "output_type": "pyerr",
       "traceback": [
        "\u001b[0;31m---------------------------------------------------------------------------\u001b[0m\n\u001b[0;31mTypeError\u001b[0m                                 Traceback (most recent call last)",
        "\u001b[0;32m<ipython-input-23-7c914bd3dc48>\u001b[0m in \u001b[0;36m<module>\u001b[0;34m()\u001b[0m\n\u001b[0;32m----> 1\u001b[0;31m \u001b[0mNone\u001b[0m \u001b[0;34m-\u001b[0m \u001b[0mNone\u001b[0m\u001b[0;34m\u001b[0m\u001b[0m\n\u001b[0m",
        "\u001b[0;31mTypeError\u001b[0m: unsupported operand type(s) for -: 'NoneType' and 'NoneType'"
       ]
      }
     ],
     "prompt_number": 23
    },
    {
     "cell_type": "code",
     "collapsed": false,
     "input": [
      "None + 0"
     ],
     "language": "python",
     "metadata": {},
     "outputs": [
      {
       "ename": "TypeError",
       "evalue": "unsupported operand type(s) for +: 'NoneType' and 'int'",
       "output_type": "pyerr",
       "traceback": [
        "\u001b[0;31m---------------------------------------------------------------------------\u001b[0m\n\u001b[0;31mTypeError\u001b[0m                                 Traceback (most recent call last)",
        "\u001b[0;32m<ipython-input-24-0587a0ddb24e>\u001b[0m in \u001b[0;36m<module>\u001b[0;34m()\u001b[0m\n\u001b[0;32m----> 1\u001b[0;31m \u001b[0mNone\u001b[0m \u001b[0;34m+\u001b[0m \u001b[0;36m0\u001b[0m\u001b[0;34m\u001b[0m\u001b[0m\n\u001b[0m",
        "\u001b[0;31mTypeError\u001b[0m: unsupported operand type(s) for +: 'NoneType' and 'int'"
       ]
      }
     ],
     "prompt_number": 24
    },
    {
     "cell_type": "markdown",
     "metadata": {},
     "source": [
      "Makes sense. `None` really is absolutely nothing, and it would appear there is nothing we can do with it.\n",
      "\n",
      "Let's check its `dir`ectory of methods though - maybe it has something it hasn't told us yet."
     ]
    },
    {
     "cell_type": "code",
     "collapsed": false,
     "input": [
      "dir(None)"
     ],
     "language": "python",
     "metadata": {},
     "outputs": [
      {
       "metadata": {},
       "output_type": "pyout",
       "prompt_number": 25,
       "text": [
        "['__class__',\n",
        " '__delattr__',\n",
        " '__doc__',\n",
        " '__format__',\n",
        " '__getattribute__',\n",
        " '__hash__',\n",
        " '__init__',\n",
        " '__new__',\n",
        " '__reduce__',\n",
        " '__reduce_ex__',\n",
        " '__repr__',\n",
        " '__setattr__',\n",
        " '__sizeof__',\n",
        " '__str__',\n",
        " '__subclasshook__']"
       ]
      }
     ],
     "prompt_number": 25
    },
    {
     "cell_type": "markdown",
     "metadata": {},
     "source": [
      "Wow, that's a lot of things! How many things?"
     ]
    },
    {
     "cell_type": "code",
     "collapsed": false,
     "input": [
      "len(dir(None))"
     ],
     "language": "python",
     "metadata": {},
     "outputs": [
      {
       "metadata": {},
       "output_type": "pyout",
       "prompt_number": 26,
       "text": [
        "15"
       ]
      }
     ],
     "prompt_number": 26
    },
    {
     "cell_type": "markdown",
     "metadata": {},
     "source": [
      "Wow, **15** things that `None` can do!\n",
      "\n",
      "Let's try from the top..."
     ]
    },
    {
     "cell_type": "code",
     "collapsed": false,
     "input": [
      "None.__class__"
     ],
     "language": "python",
     "metadata": {},
     "outputs": [
      {
       "metadata": {},
       "output_type": "pyout",
       "prompt_number": 27,
       "text": [
        "NoneType"
       ]
      }
     ],
     "prompt_number": 27
    },
    {
     "cell_type": "markdown",
     "metadata": {},
     "source": [
      "`NoneType` again? I thought we already got that guy with `type`! Is that the same `NoneType` really?"
     ]
    },
    {
     "cell_type": "code",
     "collapsed": false,
     "input": [
      "type(None) is None.__class__"
     ],
     "language": "python",
     "metadata": {},
     "outputs": [
      {
       "metadata": {},
       "output_type": "pyout",
       "prompt_number": 28,
       "text": [
        "True"
       ]
      }
     ],
     "prompt_number": 28
    },
    {
     "cell_type": "markdown",
     "metadata": {},
     "source": [
      "Okay, that's boring.\n",
      "\n",
      "Let's check the next one - `__delattr__`."
     ]
    },
    {
     "cell_type": "code",
     "collapsed": false,
     "input": [
      "None.__delattr__"
     ],
     "language": "python",
     "metadata": {},
     "outputs": [
      {
       "metadata": {},
       "output_type": "pyout",
       "prompt_number": 29,
       "text": [
        "<method-wrapper '__delattr__' of NoneType object at 0x10b8b77d8>"
       ]
      }
     ],
     "prompt_number": 29
    },
    {
     "cell_type": "markdown",
     "metadata": {},
     "source": [
      "Okay, it's a method-wrapper. Guess that means it's like a method. Let's try calling it."
     ]
    },
    {
     "cell_type": "code",
     "collapsed": false,
     "input": [
      "None.__delattr__()"
     ],
     "language": "python",
     "metadata": {},
     "outputs": [
      {
       "ename": "TypeError",
       "evalue": "expected 1 arguments, got 0",
       "output_type": "pyerr",
       "traceback": [
        "\u001b[0;31m---------------------------------------------------------------------------\u001b[0m\n\u001b[0;31mTypeError\u001b[0m                                 Traceback (most recent call last)",
        "\u001b[0;32m<ipython-input-30-c029fddc3dab>\u001b[0m in \u001b[0;36m<module>\u001b[0;34m()\u001b[0m\n\u001b[0;32m----> 1\u001b[0;31m \u001b[0mNone\u001b[0m\u001b[0;34m.\u001b[0m\u001b[0m__delattr__\u001b[0m\u001b[0;34m(\u001b[0m\u001b[0;34m)\u001b[0m\u001b[0;34m\u001b[0m\u001b[0m\n\u001b[0m",
        "\u001b[0;31mTypeError\u001b[0m: expected 1 arguments, got 0"
       ]
      }
     ],
     "prompt_number": 30
    },
    {
     "cell_type": "markdown",
     "metadata": {},
     "source": [
      "Okay, you want an argument? I'll give you an argument!"
     ]
    },
    {
     "cell_type": "code",
     "collapsed": false,
     "input": [
      "None.__delattr__(\"argument\")"
     ],
     "language": "python",
     "metadata": {},
     "outputs": [
      {
       "ename": "AttributeError",
       "evalue": "'NoneType' object has no attribute 'argument'",
       "output_type": "pyerr",
       "traceback": [
        "\u001b[0;31m---------------------------------------------------------------------------\u001b[0m\n\u001b[0;31mAttributeError\u001b[0m                            Traceback (most recent call last)",
        "\u001b[0;32m<ipython-input-31-2426153cd4f8>\u001b[0m in \u001b[0;36m<module>\u001b[0;34m()\u001b[0m\n\u001b[0;32m----> 1\u001b[0;31m \u001b[0mNone\u001b[0m\u001b[0;34m.\u001b[0m\u001b[0m__delattr__\u001b[0m\u001b[0;34m(\u001b[0m\u001b[0;34m\"argument\"\u001b[0m\u001b[0;34m)\u001b[0m\u001b[0;34m\u001b[0m\u001b[0m\n\u001b[0m",
        "\u001b[0;31mAttributeError\u001b[0m: 'NoneType' object has no attribute 'argument'"
       ]
      }
     ],
     "prompt_number": 31
    },
    {
     "cell_type": "markdown",
     "metadata": {},
     "source": [
      "Oh, you want an argument that's the name of an *attribute*? Why didn't you say? We already know the name of an attribute that we don't need - `__class__` is something we can get by calling `type` - so let's get rid of that and save some space:"
     ]
    },
    {
     "cell_type": "code",
     "collapsed": false,
     "input": [
      "None.__delattr__(\"__class__\")"
     ],
     "language": "python",
     "metadata": {},
     "outputs": [
      {
       "ename": "TypeError",
       "evalue": "can't delete __class__ attribute",
       "output_type": "pyerr",
       "traceback": [
        "\u001b[0;31m---------------------------------------------------------------------------\u001b[0m\n\u001b[0;31mTypeError\u001b[0m                                 Traceback (most recent call last)",
        "\u001b[0;32m<ipython-input-32-16c650f8235a>\u001b[0m in \u001b[0;36m<module>\u001b[0;34m()\u001b[0m\n\u001b[0;32m----> 1\u001b[0;31m \u001b[0mNone\u001b[0m\u001b[0;34m.\u001b[0m\u001b[0m__delattr__\u001b[0m\u001b[0;34m(\u001b[0m\u001b[0;34m\"__class__\"\u001b[0m\u001b[0;34m)\u001b[0m\u001b[0;34m\u001b[0m\u001b[0m\n\u001b[0m",
        "\u001b[0;31mTypeError\u001b[0m: can't delete __class__ attribute"
       ]
      }
     ],
     "prompt_number": 32
    },
    {
     "cell_type": "markdown",
     "metadata": {},
     "source": [
      "Well that's annoying, but I guess it's okay for python to have some protection over such built-in features. For all we know, `type` might actually just simply return the `__class__` attribute of the `None` object, right?\n",
      "\n",
      "I give up, let's try the next one."
     ]
    },
    {
     "cell_type": "code",
     "collapsed": false,
     "input": [
      "None.__doc__"
     ],
     "language": "python",
     "metadata": {},
     "outputs": [],
     "prompt_number": 33
    },
    {
     "cell_type": "markdown",
     "metadata": {},
     "source": [
      "Oh great. I guess we kind of knew that one from the question we asked IPython earlier though, where it told us there was no \"docstring\" - this is where it is stored I guess. Let's give it a check though by looking for the `str` docstring in the same place:"
     ]
    },
    {
     "cell_type": "code",
     "collapsed": false,
     "input": [
      "str.__doc__"
     ],
     "language": "python",
     "metadata": {},
     "outputs": [
      {
       "metadata": {},
       "output_type": "pyout",
       "prompt_number": 34,
       "text": [
        "\"str(object='') -> string\\n\\nReturn a nice string representation of the object.\\nIf the argument is a string, the return value is the same object.\""
       ]
      }
     ],
     "prompt_number": 34
    },
    {
     "cell_type": "markdown",
     "metadata": {},
     "source": [
      "Yup, that's the string, although the new-line characters have been displayed as `\\\\n`. Next!"
     ]
    },
    {
     "cell_type": "code",
     "collapsed": false,
     "input": [
      "None.__format__"
     ],
     "language": "python",
     "metadata": {},
     "outputs": [
      {
       "metadata": {},
       "output_type": "pyout",
       "prompt_number": 35,
       "text": [
        "<function __format__>"
       ]
      }
     ],
     "prompt_number": 35
    },
    {
     "cell_type": "code",
     "collapsed": false,
     "input": [
      "None.__format__()"
     ],
     "language": "python",
     "metadata": {},
     "outputs": [
      {
       "ename": "TypeError",
       "evalue": "__format__() takes exactly 1 argument (0 given)",
       "output_type": "pyerr",
       "traceback": [
        "\u001b[0;31m---------------------------------------------------------------------------\u001b[0m\n\u001b[0;31mTypeError\u001b[0m                                 Traceback (most recent call last)",
        "\u001b[0;32m<ipython-input-36-b3b553b690f4>\u001b[0m in \u001b[0;36m<module>\u001b[0;34m()\u001b[0m\n\u001b[0;32m----> 1\u001b[0;31m \u001b[0mNone\u001b[0m\u001b[0;34m.\u001b[0m\u001b[0m__format__\u001b[0m\u001b[0;34m(\u001b[0m\u001b[0;34m)\u001b[0m\u001b[0;34m\u001b[0m\u001b[0m\n\u001b[0m",
        "\u001b[0;31mTypeError\u001b[0m: __format__() takes exactly 1 argument (0 given)"
       ]
      }
     ],
     "prompt_number": 36
    },
    {
     "cell_type": "code",
     "collapsed": false,
     "input": [
      "None.__format__(None)"
     ],
     "language": "python",
     "metadata": {},
     "outputs": [
      {
       "ename": "TypeError",
       "evalue": "argument to __format__ must be unicode or str",
       "output_type": "pyerr",
       "traceback": [
        "\u001b[0;31m---------------------------------------------------------------------------\u001b[0m\n\u001b[0;31mTypeError\u001b[0m                                 Traceback (most recent call last)",
        "\u001b[0;32m<ipython-input-37-85c2a0b25bf2>\u001b[0m in \u001b[0;36m<module>\u001b[0;34m()\u001b[0m\n\u001b[0;32m----> 1\u001b[0;31m \u001b[0mNone\u001b[0m\u001b[0;34m.\u001b[0m\u001b[0m__format__\u001b[0m\u001b[0;34m(\u001b[0m\u001b[0mNone\u001b[0m\u001b[0;34m)\u001b[0m\u001b[0;34m\u001b[0m\u001b[0m\n\u001b[0m",
        "\u001b[0;31mTypeError\u001b[0m: argument to __format__ must be unicode or str"
       ]
      }
     ],
     "prompt_number": 37
    },
    {
     "cell_type": "markdown",
     "metadata": {},
     "source": [
      "Okay, let's pass in an empty str."
     ]
    },
    {
     "cell_type": "code",
     "collapsed": false,
     "input": [
      "None.__format__(\"\")"
     ],
     "language": "python",
     "metadata": {},
     "outputs": [
      {
       "metadata": {},
       "output_type": "pyout",
       "prompt_number": 38,
       "text": [
        "'None'"
       ]
      }
     ],
     "prompt_number": 38
    },
    {
     "cell_type": "raw",
     "metadata": {},
     "source": [
      "Brilliant, another way to get the string \"None\". Boring. The next one sounds funky though..."
     ]
    },
    {
     "cell_type": "code",
     "collapsed": false,
     "input": [
      "None.__getattribute__()"
     ],
     "language": "python",
     "metadata": {},
     "outputs": [
      {
       "ename": "TypeError",
       "evalue": "expected 1 arguments, got 0",
       "output_type": "pyerr",
       "traceback": [
        "\u001b[0;31m---------------------------------------------------------------------------\u001b[0m\n\u001b[0;31mTypeError\u001b[0m                                 Traceback (most recent call last)",
        "\u001b[0;32m<ipython-input-39-5ae801cbefcc>\u001b[0m in \u001b[0;36m<module>\u001b[0;34m()\u001b[0m\n\u001b[0;32m----> 1\u001b[0;31m \u001b[0mNone\u001b[0m\u001b[0;34m.\u001b[0m\u001b[0m__getattribute__\u001b[0m\u001b[0;34m(\u001b[0m\u001b[0;34m)\u001b[0m\u001b[0;34m\u001b[0m\u001b[0m\n\u001b[0m",
        "\u001b[0;31mTypeError\u001b[0m: expected 1 arguments, got 0"
       ]
      }
     ],
     "prompt_number": 39
    },
    {
     "cell_type": "markdown",
     "metadata": {},
     "source": [
      "Let's try giving it the name of an attribute..."
     ]
    },
    {
     "cell_type": "code",
     "collapsed": false,
     "input": [
      "None.__getattribute__(\"__class__\")"
     ],
     "language": "python",
     "metadata": {},
     "outputs": [
      {
       "metadata": {},
       "output_type": "pyout",
       "prompt_number": 40,
       "text": [
        "NoneType"
       ]
      }
     ],
     "prompt_number": 40
    },
    {
     "cell_type": "markdown",
     "metadata": {},
     "source": [
      "Wow, we just discovered that the 'dot' operator really just calls the `__getattribute__` method of the object! So you can get any attribute that way? Let's try getting them all!"
     ]
    },
    {
     "cell_type": "code",
     "collapsed": false,
     "input": [
      "for name in dir(None):\n",
      "    print name, None.__getattribute__(name)"
     ],
     "language": "python",
     "metadata": {},
     "outputs": [
      {
       "output_type": "stream",
       "stream": "stdout",
       "text": [
        "__class__ <type 'NoneType'>\n",
        "__delattr__ <method-wrapper '__delattr__' of NoneType object at 0x10b8b77d8>\n",
        "__doc__ None\n",
        "__format__ <built-in method __format__ of NoneType object at 0x10b8b77d8>\n",
        "__getattribute__ <method-wrapper '__getattribute__' of NoneType object at 0x10b8b77d8>\n",
        "__hash__ <method-wrapper '__hash__' of NoneType object at 0x10b8b77d8>\n",
        "__init__ <method-wrapper '__init__' of NoneType object at 0x10b8b77d8>\n",
        "__new__ <built-in method __new__ of type object at 0x10b8bda60>\n",
        "__reduce__ <built-in method __reduce__ of NoneType object at 0x10b8b77d8>\n",
        "__reduce_ex__ <built-in method __reduce_ex__ of NoneType object at 0x10b8b77d8>\n",
        "__repr__ <method-wrapper '__repr__' of NoneType object at 0x10b8b77d8>\n",
        "__setattr__ <method-wrapper '__setattr__' of NoneType object at 0x10b8b77d8>\n",
        "__sizeof__ <built-in method __sizeof__ of NoneType object at 0x10b8b77d8>\n",
        "__str__ <method-wrapper '__str__' of NoneType object at 0x10b8b77d8>\n",
        "__subclasshook__ <built-in method __subclasshook__ of type object at 0x10b8b7988>\n"
       ]
      }
     ],
     "prompt_number": 41
    },
    {
     "cell_type": "markdown",
     "metadata": {},
     "source": [
      "Wow, that saved some work, checking what they are and where they are from! Most seem to be part of the `NoneType` object, but some are from `object` or `type`. Weird!\n",
      "\n",
      "Wait, is `None` and `object` ?"
     ]
    },
    {
     "cell_type": "code",
     "collapsed": false,
     "input": [
      "isinstance(None, object)"
     ],
     "language": "python",
     "metadata": {},
     "outputs": [
      {
       "metadata": {},
       "output_type": "pyout",
       "prompt_number": 42,
       "text": [
        "True"
       ]
      }
     ],
     "prompt_number": 42
    },
    {
     "cell_type": "markdown",
     "metadata": {},
     "source": [
      "Apparently so! What else is an `object`?"
     ]
    },
    {
     "cell_type": "code",
     "collapsed": false,
     "input": [
      "isinstance(object, object)"
     ],
     "language": "python",
     "metadata": {},
     "outputs": [
      {
       "metadata": {},
       "output_type": "pyout",
       "prompt_number": 43,
       "text": [
        "True"
       ]
      }
     ],
     "prompt_number": 43
    },
    {
     "cell_type": "code",
     "collapsed": false,
     "input": [
      "isinstance(type(None), object)"
     ],
     "language": "python",
     "metadata": {},
     "outputs": [
      {
       "metadata": {},
       "output_type": "pyout",
       "prompt_number": 44,
       "text": [
        "True"
       ]
      }
     ],
     "prompt_number": 44
    },
    {
     "cell_type": "code",
     "collapsed": false,
     "input": [
      "isinstance(type, object)"
     ],
     "language": "python",
     "metadata": {},
     "outputs": [
      {
       "metadata": {},
       "output_type": "pyout",
       "prompt_number": 45,
       "text": [
        "True"
       ]
      }
     ],
     "prompt_number": 45
    },
    {
     "cell_type": "markdown",
     "metadata": {},
     "source": [
      "Well, I heard python is object-oriented, but it seems oriented towards making *everything* an object.\n",
      "\n",
      "So what does that mean? Does object have some stuff on it that you can do anywhere or something?"
     ]
    },
    {
     "cell_type": "code",
     "collapsed": false,
     "input": [
      "dir(object)"
     ],
     "language": "python",
     "metadata": {},
     "outputs": [
      {
       "metadata": {},
       "output_type": "pyout",
       "prompt_number": 46,
       "text": [
        "['__class__',\n",
        " '__delattr__',\n",
        " '__doc__',\n",
        " '__format__',\n",
        " '__getattribute__',\n",
        " '__hash__',\n",
        " '__init__',\n",
        " '__new__',\n",
        " '__reduce__',\n",
        " '__reduce_ex__',\n",
        " '__repr__',\n",
        " '__setattr__',\n",
        " '__sizeof__',\n",
        " '__str__',\n",
        " '__subclasshook__']"
       ]
      }
     ],
     "prompt_number": 46
    },
    {
     "cell_type": "code",
     "collapsed": false,
     "input": [
      "len(dir(object))"
     ],
     "language": "python",
     "metadata": {},
     "outputs": [
      {
       "metadata": {},
       "output_type": "pyout",
       "prompt_number": 47,
       "text": [
        "15"
       ]
      }
     ],
     "prompt_number": 47
    },
    {
     "cell_type": "markdown",
     "metadata": {},
     "source": [
      "Holy smokes, that's like the same list that `None` has! Wait, is it exactly the same list?"
     ]
    },
    {
     "cell_type": "code",
     "collapsed": false,
     "input": [
      "dir(object) == dir(None)"
     ],
     "language": "python",
     "metadata": {},
     "outputs": [
      {
       "metadata": {},
       "output_type": "pyout",
       "prompt_number": 48,
       "text": [
        "True"
       ]
      }
     ],
     "prompt_number": 48
    },
    {
     "cell_type": "markdown",
     "metadata": {},
     "source": [
      "Yes indeed! Aww wait, we learnt nothing interesting about `None` - it only has all the same things that every other `object` has, i.e. everything else... :( So it really *doesn't* do anything interesting.\n",
      "\n",
      "Well, this sucks, and we've run out of time. Guess we'll have to call it a day and hopefully next time using `True` and `False` will impart more wisdom to us!"
     ]
    }
   ],
   "metadata": {}
  }
 ]
}