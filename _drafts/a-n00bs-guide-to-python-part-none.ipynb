{
 "metadata": {
  "name": "",
  "signature": "sha256:c4897d94affbab06ea67ce31d406c411447ab3c04daf18b78ab1e95d838a2392"
 },
 "nbformat": 3,
 "nbformat_minor": 0,
 "worksheets": [
  {
   "cells": [
    {
     "cell_type": "markdown",
     "metadata": {},
     "source": [
      "---\n",
      "layout: post\n",
      "title: \"A N00b's Guide to Python Part None\"\n",
      "date: 2014-09-16 22:05:00 +0100\n",
      "comments: true\n",
      "categories:\n",
      "---\n",
      "\n",
      "![Space. The closest thing to a picture of nothing that's not blank.]({{ site.baseurl }}/assets/2014-09-17-big-dipper.jpg)\n",
      "\n",
      "<p class='message'>\n",
      "    <strong>Disclaimer:</strong> even though this post covers nothing, it does so in a fairly technical manner, so it's probably not appropriate for complete newbies. You'll need a little programming experience to understand what I'm blabbing on about.\n",
      "</p>\n",
      "\n",
      "Let's learn about nothing. More particularly, let's learnt about python's concept of representing nothing, `None`. This is the most nothingest concept of nothing as well - for example, zero is nothing, but it's also a number, so it still has some information. Other names for nothing from other programming languages include `null`, `nil`, or `Nothing`.\n",
      "\n",
      "I'm writing this post in **IPython**. If you want to follow along at home, get your IPython console started by typing `ipython` at the command prompt. Didn't work? [Install it](http://ipython.org/install.html). Bam.\n",
      "\n",
      "Now, let's start. Let's see what happens if ask for nothing:"
     ]
    },
    {
     "cell_type": "code",
     "collapsed": false,
     "input": [
      "None"
     ],
     "language": "python",
     "metadata": {},
     "outputs": [],
     "prompt_number": 1
    },
    {
     "cell_type": "markdown",
     "metadata": {},
     "source": [
      "No output - makes sense. Let's try outputting it to screen though:"
     ]
    },
    {
     "cell_type": "code",
     "collapsed": false,
     "input": [
      "print None"
     ],
     "language": "python",
     "metadata": {},
     "outputs": [
      {
       "output_type": "stream",
       "stream": "stdout",
       "text": [
        "None\n"
       ]
      }
     ],
     "prompt_number": 2
    },
    {
     "cell_type": "markdown",
     "metadata": {},
     "source": [
      "Aha, we get some output. `print` turns its input into a string so it can be output - and the `str`ing output of `None` is `'None'`. Let's check that `str`ing representation:"
     ]
    },
    {
     "cell_type": "code",
     "collapsed": false,
     "input": [
      "str(None)"
     ],
     "language": "python",
     "metadata": {},
     "outputs": [
      {
       "metadata": {},
       "output_type": "pyout",
       "prompt_number": 3,
       "text": [
        "'None'"
       ]
      }
     ],
     "prompt_number": 3
    },
    {
     "cell_type": "markdown",
     "metadata": {},
     "source": [
      "Now, since we didn't use print, the output comes from the IPython prompt, with an \"Out\" marker to indicate that. IPython takes the expression you typed in, evaluates it, and displays the result as a prompt - unless the result is `None`, when it displays nothing! And you guessed it, input 1 evaluated to `None`, and so did input 2 (`print` actually can't even return anything).\n",
      "\n",
      "So if we print again, there is no output prompt, since the print statement evaluates to nothing. Let's try `print`ing the `str`ing of `None`:"
     ]
    },
    {
     "cell_type": "code",
     "collapsed": false,
     "input": [
      "print str(None)"
     ],
     "language": "python",
     "metadata": {},
     "outputs": [
      {
       "output_type": "stream",
       "stream": "stdout",
       "text": [
        "None\n"
       ]
      }
     ],
     "prompt_number": 4
    },
    {
     "cell_type": "markdown",
     "metadata": {},
     "source": [
      "Brilliant.\n",
      "\n",
      "Anyway, the string `\"None\"` is *something*, and we're here to investigate nothing. Let's use an IPython feature to find out more about it:"
     ]
    },
    {
     "cell_type": "code",
     "collapsed": false,
     "input": [
      "None?"
     ],
     "language": "python",
     "metadata": {},
     "outputs": [],
     "prompt_number": 5
    },
    {
     "cell_type": "markdown",
     "metadata": {},
     "source": [
      "{% highlight ipy %}\n",
      "Type:        NoneType\n",
      "String form: None\n",
      "Namespace:   Python builtin\n",
      "Docstring:   <no docstring>\n",
      "{% endhighlight %}"
     ]
    },
    {
     "cell_type": "markdown",
     "metadata": {},
     "source": [
      "Intriguing. `None` has a type - the `NoneType`. In fact, every object in python has a type, which is like a `class` in other languages, except it extends to builtin things as well.\n",
      "\n",
      "The **String Form** there - that's what you get when you pass `None` to `str` as we've seen.\n",
      "\n",
      "**Namespace** is 'Python builtin' - which means, surprise surprise, it's built-in to Python.\n",
      "\n",
      "There's no **docstring** - this is a way of adding documentation to objects in Python for users to access. Let's check for a docstring on another object we know about:"
     ]
    },
    {
     "cell_type": "code",
     "collapsed": false,
     "input": [
      "str?"
     ],
     "language": "python",
     "metadata": {},
     "outputs": [],
     "prompt_number": 6
    },
    {
     "cell_type": "markdown",
     "metadata": {},
     "source": [
      "{% highlight ipy %}\n",
      "Type:        type\n",
      "String form: <type 'str'>\n",
      "Namespace:   Python builtin\n",
      "Docstring:\n",
      "str(object='') -> string\n",
      "\n",
      "Return a nice string representation of the object.\n",
      "If the argument is a string, the return value is the same object.\n",
      "{% endhighlight %}\n",
      "\n",
      "Ah, `str`'s docstring is much more instructive - and it tells us how to do what we did on line 3!\n",
      "\n",
      "But its **type** is **type**? This means we can make fresh `str` objects by calling the type:"
     ]
    },
    {
     "cell_type": "code",
     "collapsed": false,
     "input": [
      "str()"
     ],
     "language": "python",
     "metadata": {},
     "outputs": [
      {
       "metadata": {},
       "output_type": "pyout",
       "prompt_number": 7,
       "text": [
        "''"
       ]
      }
     ],
     "prompt_number": 7
    },
    {
     "cell_type": "markdown",
     "metadata": {},
     "source": [
      "And tada, a blank `str`ing appears.\n",
      "\n",
      "Can we do that with the `NoneType` I wonder?"
     ]
    },
    {
     "cell_type": "code",
     "collapsed": false,
     "input": [
      "NoneType()"
     ],
     "language": "python",
     "metadata": {},
     "outputs": [
      {
       "ename": "NameError",
       "evalue": "name 'NoneType' is not defined",
       "output_type": "pyerr",
       "traceback": [
        "\u001b[0;31m---------------------------------------------------------------------------\u001b[0m\n\u001b[0;31mNameError\u001b[0m                                 Traceback (most recent call last)",
        "\u001b[0;32m<ipython-input-8-49f3f437d859>\u001b[0m in \u001b[0;36m<module>\u001b[0;34m()\u001b[0m\n\u001b[0;32m----> 1\u001b[0;31m \u001b[0mNoneType\u001b[0m\u001b[0;34m(\u001b[0m\u001b[0;34m)\u001b[0m\u001b[0;34m\u001b[0m\u001b[0m\n\u001b[0m",
        "\u001b[0;31mNameError\u001b[0m: name 'NoneType' is not defined"
       ]
      }
     ],
     "prompt_number": 8
    },
    {
     "cell_type": "markdown",
     "metadata": {},
     "source": [
      "Uh-oh. Looks like we don't actually have `NoneType` available in our current namespace - just `None`. But luckily, we can ask for the type of `None`, store it in a variable, and call that:"
     ]
    },
    {
     "cell_type": "code",
     "collapsed": false,
     "input": [
      "type(None)"
     ],
     "language": "python",
     "metadata": {},
     "outputs": [
      {
       "metadata": {},
       "output_type": "pyout",
       "prompt_number": 9,
       "text": [
        "NoneType"
       ]
      }
     ],
     "prompt_number": 9
    },
    {
     "cell_type": "code",
     "collapsed": false,
     "input": [
      "local_none_type = type(None)"
     ],
     "language": "python",
     "metadata": {},
     "outputs": [],
     "prompt_number": 10
    },
    {
     "cell_type": "code",
     "collapsed": false,
     "input": [
      "local_none_type()"
     ],
     "language": "python",
     "metadata": {},
     "outputs": [
      {
       "ename": "TypeError",
       "evalue": "cannot create 'NoneType' instances",
       "output_type": "pyerr",
       "traceback": [
        "\u001b[0;31m---------------------------------------------------------------------------\u001b[0m\n\u001b[0;31mTypeError\u001b[0m                                 Traceback (most recent call last)",
        "\u001b[0;32m<ipython-input-11-ae31f43f07b8>\u001b[0m in \u001b[0;36m<module>\u001b[0;34m()\u001b[0m\n\u001b[0;32m----> 1\u001b[0;31m \u001b[0mlocal_none_type\u001b[0m\u001b[0;34m(\u001b[0m\u001b[0;34m)\u001b[0m\u001b[0;34m\u001b[0m\u001b[0m\n\u001b[0m",
        "\u001b[0;31mTypeError\u001b[0m: cannot create 'NoneType' instances"
       ]
      }
     ],
     "prompt_number": 11
    },
    {
     "cell_type": "markdown",
     "metadata": {},
     "source": [
      "Dang. We can have a handle on the `NoneType` type, but we can't make any more of it. This is actually a special rule for the `NoneType`... Does it mean there is only ever one `None`?"
     ]
    },
    {
     "cell_type": "code",
     "collapsed": false,
     "input": [
      "a = None"
     ],
     "language": "python",
     "metadata": {},
     "outputs": [],
     "prompt_number": 12
    },
    {
     "cell_type": "code",
     "collapsed": false,
     "input": [
      "b = None"
     ],
     "language": "python",
     "metadata": {},
     "outputs": [],
     "prompt_number": 13
    },
    {
     "cell_type": "code",
     "collapsed": false,
     "input": [
      "a == b"
     ],
     "language": "python",
     "metadata": {},
     "outputs": [
      {
       "metadata": {},
       "output_type": "pyout",
       "prompt_number": 14,
       "text": [
        "True"
       ]
      }
     ],
     "prompt_number": 14
    },
    {
     "cell_type": "markdown",
     "metadata": {},
     "source": [
      "Well, they're equal, that's a start. But can we check that `a` and `b` are *exactly* the same thing?"
     ]
    },
    {
     "cell_type": "code",
     "collapsed": false,
     "input": [
      "a is b"
     ],
     "language": "python",
     "metadata": {},
     "outputs": [
      {
       "metadata": {},
       "output_type": "pyout",
       "prompt_number": 15,
       "text": [
        "True"
       ]
      }
     ],
     "prompt_number": 15
    },
    {
     "cell_type": "markdown",
     "metadata": {},
     "source": [
      "Yes indeed they are. So there is only ever one `None`, and we can never make any more of it. That's useful to know - write it down in your copy book now.\n",
      "\n",
      "\n",
      "---\n",
      "\n",
      "Let's have a break with a quote on nothing:"
     ]
    },
    {
     "cell_type": "markdown",
     "metadata": {},
     "source": [
      "![Marcus Aurelius]({{ site.baseurl }}/assets/2014-09-17-marcus-aurelius.png)\n",
      "\n",
      "> Nothing proceeds from nothingness, as also nothing passes away into non-existence.\n",
      "> Marcus Aurelius, Meditations, IV, 4\n",
      "\n",
      "---\n",
      "\n",
      "Let's continue; I wonder if `None` can be checked against:"
     ]
    },
    {
     "cell_type": "code",
     "collapsed": false,
     "input": [
      "if None:\n",
      "    print \"Yes, none.\""
     ],
     "language": "python",
     "metadata": {},
     "outputs": [],
     "prompt_number": 16
    },
    {
     "cell_type": "markdown",
     "metadata": {},
     "source": [
      "Oh, nothing happened. Let's see what happens if we go the other way:"
     ]
    },
    {
     "cell_type": "code",
     "collapsed": false,
     "input": [
      "if not None:\n",
      "    print \"Yes, not none.\""
     ],
     "language": "python",
     "metadata": {},
     "outputs": [
      {
       "output_type": "stream",
       "stream": "stdout",
       "text": [
        "Yes, not none.\n"
       ]
      }
     ],
     "prompt_number": 17
    },
    {
     "cell_type": "markdown",
     "metadata": {},
     "source": [
      "Aha! So `None` is never `True`, and always `False`? Let's just check that by turning it into a `bool`ean:"
     ]
    },
    {
     "cell_type": "code",
     "collapsed": false,
     "input": [
      "bool(None)"
     ],
     "language": "python",
     "metadata": {},
     "outputs": [
      {
       "metadata": {},
       "output_type": "pyout",
       "prompt_number": 18,
       "text": [
        "False"
       ]
      }
     ],
     "prompt_number": 18
    },
    {
     "cell_type": "markdown",
     "metadata": {},
     "source": [
      "Exactly."
     ]
    },
    {
     "cell_type": "markdown",
     "metadata": {},
     "source": [
      "That explains why our `if` statement worked that way - `None` gets turned into `False` when we test it as a `bool`ean.\n",
      "\n",
      "Let's try doing some more day-to-day things with `None`."
     ]
    },
    {
     "cell_type": "code",
     "collapsed": false,
     "input": [
      "None + None"
     ],
     "language": "python",
     "metadata": {},
     "outputs": [
      {
       "ename": "TypeError",
       "evalue": "unsupported operand type(s) for +: 'NoneType' and 'NoneType'",
       "output_type": "pyerr",
       "traceback": [
        "\u001b[0;31m---------------------------------------------------------------------------\u001b[0m\n\u001b[0;31mTypeError\u001b[0m                                 Traceback (most recent call last)",
        "\u001b[0;32m<ipython-input-19-28a1675638b9>\u001b[0m in \u001b[0;36m<module>\u001b[0;34m()\u001b[0m\n\u001b[0;32m----> 1\u001b[0;31m \u001b[0mNone\u001b[0m \u001b[0;34m+\u001b[0m \u001b[0mNone\u001b[0m\u001b[0;34m\u001b[0m\u001b[0m\n\u001b[0m",
        "\u001b[0;31mTypeError\u001b[0m: unsupported operand type(s) for +: 'NoneType' and 'NoneType'"
       ]
      }
     ],
     "prompt_number": 19
    },
    {
     "cell_type": "code",
     "collapsed": false,
     "input": [
      "None - None"
     ],
     "language": "python",
     "metadata": {},
     "outputs": [
      {
       "ename": "TypeError",
       "evalue": "unsupported operand type(s) for -: 'NoneType' and 'NoneType'",
       "output_type": "pyerr",
       "traceback": [
        "\u001b[0;31m---------------------------------------------------------------------------\u001b[0m\n\u001b[0;31mTypeError\u001b[0m                                 Traceback (most recent call last)",
        "\u001b[0;32m<ipython-input-20-7c914bd3dc48>\u001b[0m in \u001b[0;36m<module>\u001b[0;34m()\u001b[0m\n\u001b[0;32m----> 1\u001b[0;31m \u001b[0mNone\u001b[0m \u001b[0;34m-\u001b[0m \u001b[0mNone\u001b[0m\u001b[0;34m\u001b[0m\u001b[0m\n\u001b[0m",
        "\u001b[0;31mTypeError\u001b[0m: unsupported operand type(s) for -: 'NoneType' and 'NoneType'"
       ]
      }
     ],
     "prompt_number": 20
    },
    {
     "cell_type": "code",
     "collapsed": false,
     "input": [
      "None + 0"
     ],
     "language": "python",
     "metadata": {},
     "outputs": [
      {
       "ename": "TypeError",
       "evalue": "unsupported operand type(s) for +: 'NoneType' and 'int'",
       "output_type": "pyerr",
       "traceback": [
        "\u001b[0;31m---------------------------------------------------------------------------\u001b[0m\n\u001b[0;31mTypeError\u001b[0m                                 Traceback (most recent call last)",
        "\u001b[0;32m<ipython-input-21-0587a0ddb24e>\u001b[0m in \u001b[0;36m<module>\u001b[0;34m()\u001b[0m\n\u001b[0;32m----> 1\u001b[0;31m \u001b[0mNone\u001b[0m \u001b[0;34m+\u001b[0m \u001b[0;36m0\u001b[0m\u001b[0;34m\u001b[0m\u001b[0m\n\u001b[0m",
        "\u001b[0;31mTypeError\u001b[0m: unsupported operand type(s) for +: 'NoneType' and 'int'"
       ]
      }
     ],
     "prompt_number": 21
    },
    {
     "cell_type": "markdown",
     "metadata": {},
     "source": [
      "So, you can't really do anything. Makes sense that you do (nearly) nothing with nothing.\n",
      "\n",
      "Let's check its `dir`ectory of methods though - maybe it has something it hasn't told us yet."
     ]
    },
    {
     "cell_type": "code",
     "collapsed": false,
     "input": [
      "dir(None)"
     ],
     "language": "python",
     "metadata": {},
     "outputs": [
      {
       "metadata": {},
       "output_type": "pyout",
       "prompt_number": 22,
       "text": [
        "['__class__',\n",
        " '__delattr__',\n",
        " '__doc__',\n",
        " '__format__',\n",
        " '__getattribute__',\n",
        " '__hash__',\n",
        " '__init__',\n",
        " '__new__',\n",
        " '__reduce__',\n",
        " '__reduce_ex__',\n",
        " '__repr__',\n",
        " '__setattr__',\n",
        " '__sizeof__',\n",
        " '__str__',\n",
        " '__subclasshook__']"
       ]
      }
     ],
     "prompt_number": 22
    },
    {
     "cell_type": "markdown",
     "metadata": {},
     "source": [
      "Wow, that's a lot of things! How many things?"
     ]
    },
    {
     "cell_type": "code",
     "collapsed": false,
     "input": [
      "len(dir(None))"
     ],
     "language": "python",
     "metadata": {},
     "outputs": [
      {
       "metadata": {},
       "output_type": "pyout",
       "prompt_number": 23,
       "text": [
        "15"
       ]
      }
     ],
     "prompt_number": 23
    },
    {
     "cell_type": "markdown",
     "metadata": {},
     "source": [
      "Wow, there are actually **15** things that `None` can do!?\n",
      "\n",
      "Let's try from the top..."
     ]
    },
    {
     "cell_type": "code",
     "collapsed": false,
     "input": [
      "None.__class__"
     ],
     "language": "python",
     "metadata": {},
     "outputs": [
      {
       "metadata": {},
       "output_type": "pyout",
       "prompt_number": 24,
       "text": [
        "NoneType"
       ]
      }
     ],
     "prompt_number": 24
    },
    {
     "cell_type": "markdown",
     "metadata": {},
     "source": [
      "`NoneType` again? I thought we already got that guy with `type`! Is that the same `NoneType` really?"
     ]
    },
    {
     "cell_type": "code",
     "collapsed": false,
     "input": [
      "type(None) is None.__class__"
     ],
     "language": "python",
     "metadata": {},
     "outputs": [
      {
       "metadata": {},
       "output_type": "pyout",
       "prompt_number": 25,
       "text": [
        "True"
       ]
      }
     ],
     "prompt_number": 25
    },
    {
     "cell_type": "markdown",
     "metadata": {},
     "source": [
      "Okay, that's boring - just another way to get ahold of that `__class__` it looks like.\n",
      "\n",
      "Let's check the next one - `__delattr__`."
     ]
    },
    {
     "cell_type": "code",
     "collapsed": false,
     "input": [
      "None.__delattr__"
     ],
     "language": "python",
     "metadata": {},
     "outputs": [
      {
       "metadata": {},
       "output_type": "pyout",
       "prompt_number": 26,
       "text": [
        "<method-wrapper '__delattr__' of NoneType object at 0x1054527d8>"
       ]
      }
     ],
     "prompt_number": 26
    },
    {
     "cell_type": "markdown",
     "metadata": {},
     "source": [
      "Okay, it's a method-wrapper. Guess that means it's like a method. Let's try calling it."
     ]
    },
    {
     "cell_type": "code",
     "collapsed": false,
     "input": [
      "None.__delattr__()"
     ],
     "language": "python",
     "metadata": {},
     "outputs": [
      {
       "ename": "TypeError",
       "evalue": "expected 1 arguments, got 0",
       "output_type": "pyerr",
       "traceback": [
        "\u001b[0;31m---------------------------------------------------------------------------\u001b[0m\n\u001b[0;31mTypeError\u001b[0m                                 Traceback (most recent call last)",
        "\u001b[0;32m<ipython-input-27-c029fddc3dab>\u001b[0m in \u001b[0;36m<module>\u001b[0;34m()\u001b[0m\n\u001b[0;32m----> 1\u001b[0;31m \u001b[0mNone\u001b[0m\u001b[0;34m.\u001b[0m\u001b[0m__delattr__\u001b[0m\u001b[0;34m(\u001b[0m\u001b[0;34m)\u001b[0m\u001b[0;34m\u001b[0m\u001b[0m\n\u001b[0m",
        "\u001b[0;31mTypeError\u001b[0m: expected 1 arguments, got 0"
       ]
      }
     ],
     "prompt_number": 27
    },
    {
     "cell_type": "markdown",
     "metadata": {},
     "source": [
      "Okay, you want an argument? I'll give you an argument!"
     ]
    },
    {
     "cell_type": "code",
     "collapsed": false,
     "input": [
      "None.__delattr__(\"argument\")"
     ],
     "language": "python",
     "metadata": {},
     "outputs": [
      {
       "ename": "AttributeError",
       "evalue": "'NoneType' object has no attribute 'argument'",
       "output_type": "pyerr",
       "traceback": [
        "\u001b[0;31m---------------------------------------------------------------------------\u001b[0m\n\u001b[0;31mAttributeError\u001b[0m                            Traceback (most recent call last)",
        "\u001b[0;32m<ipython-input-28-2426153cd4f8>\u001b[0m in \u001b[0;36m<module>\u001b[0;34m()\u001b[0m\n\u001b[0;32m----> 1\u001b[0;31m \u001b[0mNone\u001b[0m\u001b[0;34m.\u001b[0m\u001b[0m__delattr__\u001b[0m\u001b[0;34m(\u001b[0m\u001b[0;34m\"argument\"\u001b[0m\u001b[0;34m)\u001b[0m\u001b[0;34m\u001b[0m\u001b[0m\n\u001b[0m",
        "\u001b[0;31mAttributeError\u001b[0m: 'NoneType' object has no attribute 'argument'"
       ]
      }
     ],
     "prompt_number": 28
    },
    {
     "cell_type": "markdown",
     "metadata": {},
     "source": [
      "Oh, you want an argument that's the name of an *attribute*? Why didn't you say? We already know the name of an attribute that we don't need - `__class__` is something we can get by calling `type` - so let's try saving some space by getting rid of that:"
     ]
    },
    {
     "cell_type": "code",
     "collapsed": false,
     "input": [
      "None.__delattr__(\"__class__\")"
     ],
     "language": "python",
     "metadata": {},
     "outputs": [
      {
       "ename": "TypeError",
       "evalue": "can't delete __class__ attribute",
       "output_type": "pyerr",
       "traceback": [
        "\u001b[0;31m---------------------------------------------------------------------------\u001b[0m\n\u001b[0;31mTypeError\u001b[0m                                 Traceback (most recent call last)",
        "\u001b[0;32m<ipython-input-29-16c650f8235a>\u001b[0m in \u001b[0;36m<module>\u001b[0;34m()\u001b[0m\n\u001b[0;32m----> 1\u001b[0;31m \u001b[0mNone\u001b[0m\u001b[0;34m.\u001b[0m\u001b[0m__delattr__\u001b[0m\u001b[0;34m(\u001b[0m\u001b[0;34m\"__class__\"\u001b[0m\u001b[0;34m)\u001b[0m\u001b[0;34m\u001b[0m\u001b[0m\n\u001b[0m",
        "\u001b[0;31mTypeError\u001b[0m: can't delete __class__ attribute"
       ]
      }
     ],
     "prompt_number": 29
    },
    {
     "cell_type": "markdown",
     "metadata": {},
     "source": [
      "Well that's annoying, but I guess it's okay for python to have some protection over such built-in features. For all we know, `type` might need the `__class__` attribute to be there to work, right?\n",
      "\n",
      "I give up, let's try the next one."
     ]
    },
    {
     "cell_type": "code",
     "collapsed": false,
     "input": [
      "None.__doc__"
     ],
     "language": "python",
     "metadata": {},
     "outputs": [],
     "prompt_number": 30
    },
    {
     "cell_type": "markdown",
     "metadata": {},
     "source": [
      "Oh great, nothing. This is actually the attribute that stores an object's docstring though - and as we saw earlier, `None` has no docstring.\n",
      "\n",
      "Let's check by getting the `str` docstring in the same way:"
     ]
    },
    {
     "cell_type": "code",
     "collapsed": false,
     "input": [
      "str.__doc__"
     ],
     "language": "python",
     "metadata": {},
     "outputs": [
      {
       "metadata": {},
       "output_type": "pyout",
       "prompt_number": 31,
       "text": [
        "\"str(object='') -> string\\n\\nReturn a nice string representation of the object.\\nIf the argument is a string, the return value is the same object.\""
       ]
      }
     ],
     "prompt_number": 31
    },
    {
     "cell_type": "markdown",
     "metadata": {},
     "source": [
      "Yup, that's the string, although the new-line characters have been displayed as `\\\\n`. Next!"
     ]
    },
    {
     "cell_type": "code",
     "collapsed": false,
     "input": [
      "None.__format__"
     ],
     "language": "python",
     "metadata": {},
     "outputs": [
      {
       "metadata": {},
       "output_type": "pyout",
       "prompt_number": 32,
       "text": [
        "<function __format__>"
       ]
      }
     ],
     "prompt_number": 32
    },
    {
     "cell_type": "code",
     "collapsed": false,
     "input": [
      "None.__format__()"
     ],
     "language": "python",
     "metadata": {},
     "outputs": [
      {
       "ename": "TypeError",
       "evalue": "__format__() takes exactly 1 argument (0 given)",
       "output_type": "pyerr",
       "traceback": [
        "\u001b[0;31m---------------------------------------------------------------------------\u001b[0m\n\u001b[0;31mTypeError\u001b[0m                                 Traceback (most recent call last)",
        "\u001b[0;32m<ipython-input-33-b3b553b690f4>\u001b[0m in \u001b[0;36m<module>\u001b[0;34m()\u001b[0m\n\u001b[0;32m----> 1\u001b[0;31m \u001b[0mNone\u001b[0m\u001b[0;34m.\u001b[0m\u001b[0m__format__\u001b[0m\u001b[0;34m(\u001b[0m\u001b[0;34m)\u001b[0m\u001b[0;34m\u001b[0m\u001b[0m\n\u001b[0m",
        "\u001b[0;31mTypeError\u001b[0m: __format__() takes exactly 1 argument (0 given)"
       ]
      }
     ],
     "prompt_number": 33
    },
    {
     "cell_type": "code",
     "collapsed": false,
     "input": [
      "None.__format__(None)"
     ],
     "language": "python",
     "metadata": {},
     "outputs": [
      {
       "ename": "TypeError",
       "evalue": "argument to __format__ must be unicode or str",
       "output_type": "pyerr",
       "traceback": [
        "\u001b[0;31m---------------------------------------------------------------------------\u001b[0m\n\u001b[0;31mTypeError\u001b[0m                                 Traceback (most recent call last)",
        "\u001b[0;32m<ipython-input-34-85c2a0b25bf2>\u001b[0m in \u001b[0;36m<module>\u001b[0;34m()\u001b[0m\n\u001b[0;32m----> 1\u001b[0;31m \u001b[0mNone\u001b[0m\u001b[0;34m.\u001b[0m\u001b[0m__format__\u001b[0m\u001b[0;34m(\u001b[0m\u001b[0mNone\u001b[0m\u001b[0;34m)\u001b[0m\u001b[0;34m\u001b[0m\u001b[0m\n\u001b[0m",
        "\u001b[0;31mTypeError\u001b[0m: argument to __format__ must be unicode or str"
       ]
      }
     ],
     "prompt_number": 34
    },
    {
     "cell_type": "markdown",
     "metadata": {},
     "source": [
      "Okay, let's pass in an empty str."
     ]
    },
    {
     "cell_type": "code",
     "collapsed": false,
     "input": [
      "None.__format__(\"\")"
     ],
     "language": "python",
     "metadata": {},
     "outputs": [
      {
       "metadata": {},
       "output_type": "pyout",
       "prompt_number": 35,
       "text": [
        "'None'"
       ]
      }
     ],
     "prompt_number": 35
    },
    {
     "cell_type": "raw",
     "metadata": {},
     "source": [
      "Brilliant, another way to get the string \"None\". Boring. The next one sounds funky though..."
     ]
    },
    {
     "cell_type": "code",
     "collapsed": false,
     "input": [
      "None.__getattribute__()"
     ],
     "language": "python",
     "metadata": {},
     "outputs": [
      {
       "ename": "TypeError",
       "evalue": "expected 1 arguments, got 0",
       "output_type": "pyerr",
       "traceback": [
        "\u001b[0;31m---------------------------------------------------------------------------\u001b[0m\n\u001b[0;31mTypeError\u001b[0m                                 Traceback (most recent call last)",
        "\u001b[0;32m<ipython-input-36-5ae801cbefcc>\u001b[0m in \u001b[0;36m<module>\u001b[0;34m()\u001b[0m\n\u001b[0;32m----> 1\u001b[0;31m \u001b[0mNone\u001b[0m\u001b[0;34m.\u001b[0m\u001b[0m__getattribute__\u001b[0m\u001b[0;34m(\u001b[0m\u001b[0;34m)\u001b[0m\u001b[0;34m\u001b[0m\u001b[0m\n\u001b[0m",
        "\u001b[0;31mTypeError\u001b[0m: expected 1 arguments, got 0"
       ]
      }
     ],
     "prompt_number": 36
    },
    {
     "cell_type": "markdown",
     "metadata": {},
     "source": [
      "Let's try giving it the name of an attribute..."
     ]
    },
    {
     "cell_type": "code",
     "collapsed": false,
     "input": [
      "None.__getattribute__(\"__class__\")"
     ],
     "language": "python",
     "metadata": {},
     "outputs": [
      {
       "metadata": {},
       "output_type": "pyout",
       "prompt_number": 37,
       "text": [
        "NoneType"
       ]
      }
     ],
     "prompt_number": 37
    },
    {
     "cell_type": "markdown",
     "metadata": {},
     "source": [
      "Wow, we just discovered that the 'dot' operator really just calls the `__getattribute__` method of the object! So you can get any attribute that way? Let's try getting them all!"
     ]
    },
    {
     "cell_type": "code",
     "collapsed": false,
     "input": [
      "for name in dir(None):\n",
      "    print name, \" -> \", None.__getattribute__(name)"
     ],
     "language": "python",
     "metadata": {},
     "outputs": [
      {
       "output_type": "stream",
       "stream": "stdout",
       "text": [
        "__class__  ->  <type 'NoneType'>\n",
        "__delattr__  ->  <method-wrapper '__delattr__' of NoneType object at 0x1054527d8>\n",
        "__doc__  ->  None\n",
        "__format__  ->  <built-in method __format__ of NoneType object at 0x1054527d8>\n",
        "__getattribute__  ->  <method-wrapper '__getattribute__' of NoneType object at 0x1054527d8>\n",
        "__hash__  ->  <method-wrapper '__hash__' of NoneType object at 0x1054527d8>\n",
        "__init__  ->  <method-wrapper '__init__' of NoneType object at 0x1054527d8>\n",
        "__new__  ->  <built-in method __new__ of type object at 0x105458a60>\n",
        "__reduce__  ->  <built-in method __reduce__ of NoneType object at 0x1054527d8>\n",
        "__reduce_ex__  ->  <built-in method __reduce_ex__ of NoneType object at 0x1054527d8>\n",
        "__repr__  ->  <method-wrapper '__repr__' of NoneType object at 0x1054527d8>\n",
        "__setattr__  ->  <method-wrapper '__setattr__' of NoneType object at 0x1054527d8>\n",
        "__sizeof__  ->  <built-in method __sizeof__ of NoneType object at 0x1054527d8>\n",
        "__str__  ->  <method-wrapper '__str__' of NoneType object at 0x1054527d8>\n",
        "__subclasshook__  ->  <built-in method __subclasshook__ of type object at 0x105452988>\n"
       ]
      }
     ],
     "prompt_number": 38
    },
    {
     "cell_type": "markdown",
     "metadata": {},
     "source": [
      "Wow, that saved some work, checking what they are and where they are from! Most seem to be part of the `NoneType` object, but some are from `object` or `type`. Weird!\n",
      "\n",
      "Wait, is `None` an `object` ?"
     ]
    },
    {
     "cell_type": "code",
     "collapsed": false,
     "input": [
      "isinstance(None, object)"
     ],
     "language": "python",
     "metadata": {},
     "outputs": [
      {
       "metadata": {},
       "output_type": "pyout",
       "prompt_number": 39,
       "text": [
        "True"
       ]
      }
     ],
     "prompt_number": 39
    },
    {
     "cell_type": "markdown",
     "metadata": {},
     "source": [
      "Apparently so! What else is an `object`?"
     ]
    },
    {
     "cell_type": "code",
     "collapsed": false,
     "input": [
      "isinstance(object, object)"
     ],
     "language": "python",
     "metadata": {},
     "outputs": [
      {
       "metadata": {},
       "output_type": "pyout",
       "prompt_number": 40,
       "text": [
        "True"
       ]
      }
     ],
     "prompt_number": 40
    },
    {
     "cell_type": "code",
     "collapsed": false,
     "input": [
      "isinstance(type(None), object)"
     ],
     "language": "python",
     "metadata": {},
     "outputs": [
      {
       "metadata": {},
       "output_type": "pyout",
       "prompt_number": 41,
       "text": [
        "True"
       ]
      }
     ],
     "prompt_number": 41
    },
    {
     "cell_type": "code",
     "collapsed": false,
     "input": [
      "isinstance(type, object)"
     ],
     "language": "python",
     "metadata": {},
     "outputs": [
      {
       "metadata": {},
       "output_type": "pyout",
       "prompt_number": 42,
       "text": [
        "True"
       ]
      }
     ],
     "prompt_number": 42
    },
    {
     "cell_type": "markdown",
     "metadata": {},
     "source": [
      "Well, I heard python is object-oriented, but it seems oriented towards making *everything* an object.\n",
      "\n",
      "So what does that mean? Does object have some stuff on it that you can do anywhere or something?"
     ]
    },
    {
     "cell_type": "code",
     "collapsed": false,
     "input": [
      "dir(object)"
     ],
     "language": "python",
     "metadata": {},
     "outputs": [
      {
       "metadata": {},
       "output_type": "pyout",
       "prompt_number": 43,
       "text": [
        "['__class__',\n",
        " '__delattr__',\n",
        " '__doc__',\n",
        " '__format__',\n",
        " '__getattribute__',\n",
        " '__hash__',\n",
        " '__init__',\n",
        " '__new__',\n",
        " '__reduce__',\n",
        " '__reduce_ex__',\n",
        " '__repr__',\n",
        " '__setattr__',\n",
        " '__sizeof__',\n",
        " '__str__',\n",
        " '__subclasshook__']"
       ]
      }
     ],
     "prompt_number": 43
    },
    {
     "cell_type": "code",
     "collapsed": false,
     "input": [
      "len(dir(object))"
     ],
     "language": "python",
     "metadata": {},
     "outputs": [
      {
       "metadata": {},
       "output_type": "pyout",
       "prompt_number": 44,
       "text": [
        "15"
       ]
      }
     ],
     "prompt_number": 44
    },
    {
     "cell_type": "markdown",
     "metadata": {},
     "source": [
      "Holy smokes, that's like the same list that `None` has! Wait, is it exactly the same list?"
     ]
    },
    {
     "cell_type": "code",
     "collapsed": false,
     "input": [
      "dir(object) == dir(None)"
     ],
     "language": "python",
     "metadata": {},
     "outputs": [
      {
       "metadata": {},
       "output_type": "pyout",
       "prompt_number": 45,
       "text": [
        "True"
       ]
      }
     ],
     "prompt_number": 45
    },
    {
     "cell_type": "markdown",
     "metadata": {},
     "source": [
      "Yes indeed! Aww wait, this means we learnt nothing interesting about `None` - it only has all the attributes that every other `object` has.  So maybe it really doesn't do anything!\n",
      "\n",
      "But we've learnt some valuable lessons:\n",
      "\n",
      "1. There is only one `None`\n",
      "2. The type of `None` is `NoneType`\n",
      "3. Most types let you create more objects of their type, but not `None`\n",
      "4. `None` does nothing interesting\n",
      "5. If you turn `None` into a `str`ing, it becomes `'None'`. If you turn `None` into a `bool`ean, it becomes `False`.\n",
      "\n",
      "---\n",
      "\n",
      "That's all we have time for in this blog post! Next time: `True` and `False` enter the picture in full focus."
     ]
    }
   ],
   "metadata": {}
  }
 ]
}